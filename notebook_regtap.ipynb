{
 "cells": [
  {
   "cell_type": "markdown",
   "metadata": {},
   "source": [
    "First, with code from http://localhost:8888/tree/Documents/GitHub/aas_workshop_2020_winter"
   ]
  },
  {
   "cell_type": "code",
   "execution_count": 2,
   "metadata": {},
   "outputs": [],
   "source": [
    "import numpy as np\n",
    "import astropy.units as u\n",
    "## There are a number of relatively unimportant warnings that \n",
    "## show up, so for now, suppress them:\n",
    "import warnings\n",
    "warnings.filterwarnings(\"ignore\", module=\"astropy.io.votable.*\")\n",
    "warnings.filterwarnings(\"ignore\", module=\"pyvo.utils.xml.*\")\n",
    "\n",
    "## For simple astropy tables\n",
    "import astropy, io\n",
    "\n",
    "## For handling ordinary astropy Tables\n",
    "from astropy.table import Table\n",
    "\n",
    "## For handling VO table type objects\n",
    "from astropy.io import votable as apvot\n",
    "\n",
    "## Generic VO access routines\n",
    "import pyvo as vo"
   ]
  },
  {
   "cell_type": "code",
   "execution_count": 3,
   "metadata": {},
   "outputs": [
    {
     "name": "stdout",
     "output_type": "stream",
     "text": [
      "abellzcat\n",
      "    Abell Clusters Measured Redshifts Catalog\n",
      "\n",
      "Columns=['\"__row\"', '\"__x_ra_dec\"', '\"__y_ra_dec\"', '\"__z_ra_dec\"', 'abell_distance_class', 'abell_radius', 'abell_richness_class', 'bautz_morgan_class', 'bautz_morgan_flag', 'bii', 'class', 'dec', 'lii', 'log_redshift_ratio', 'mag_10', 'name', 'ra', 'redshift', 'redshift_flag', 'ref_redshift']\n",
      "----\n",
      "romabzcat\n",
      "    Roma-BZCAT Multi-Frequency Catalog of Blazars\n",
      "\n",
      "Columns=['\"__row\"', '\"__x_ra_dec\"', '\"__y_ra_dec\"', '\"__z_ra_dec\"', 'bii', 'dec', 'flux_143_ghz', 'flux_1p4_ghz', 'gr_photon_flux', 'lii', 'name', 'object_type', 'ra', 'redshift', 'redshift_flag', 'rmag', 'ro_spectral_index', 'source_number', 'xray_flux']\n",
      "----\n",
      "zcat\n",
      "    CfA Redshift Catalog (June 1995 Version)\n",
      "\n",
      "Columns=['\"__row\"', '\"__x_ra_dec\"', '\"__y_ra_dec\"', '\"__z_ra_dec\"', '\"distance\"', 'bar_type', 'bii', 'bmag', 'bt_mag', 'class', 'comments', 'dec', 'diameter_1', 'diameter_2', 'lii', 'luminosity_class', 'morph_type', 'name', 'notes', 'ra', 'radial_velocity', 'radial_velocity_error', 'redshift', 'ref_bmag', 'ref_radial_velocity', 'ref_redshift', 'rfn_number', 'structure', 'ugc_or_eso']\n",
      "----\n"
     ]
    }
   ],
   "source": [
    "heasarc_tap_services=vo.regsearch(servicetype='tap',keywords=['heasarc'])\n",
    "heasarc_tap_services\n",
    "\n",
    "heasarc_tables=heasarc_tap_services[0].service.tables\n",
    "for tablename in heasarc_tables.keys():\n",
    "    if \"zcat\" in tablename:  \n",
    "        heasarc_tables[tablename].describe()\n",
    "        print(\"Columns={}\".format(sorted([k.name for k in heasarc_tables[tablename].columns ])))\n",
    "        print(\"----\")"
   ]
  },
  {
   "cell_type": "markdown",
   "metadata": {},
   "source": [
    "Now with pyvo.registry.regtap, and its connecting *ivoid2service* function"
   ]
  },
  {
   "cell_type": "code",
   "execution_count": 4,
   "metadata": {},
   "outputs": [],
   "source": [
    "regtap_search_results = vo.registry.regtap.search(keywords=['redshift'])"
   ]
  },
  {
   "cell_type": "code",
   "execution_count": 5,
   "metadata": {},
   "outputs": [
    {
     "data": {
      "text/plain": [
       "'ivo://aip.gavo.org/tap'"
      ]
     },
     "execution_count": 5,
     "metadata": {},
     "output_type": "execute_result"
    }
   ],
   "source": [
    "regtap_search_results[0].ivoid"
   ]
  },
  {
   "cell_type": "code",
   "execution_count": 9,
   "metadata": {},
   "outputs": [
    {
     "data": {
      "text/plain": [
       "<pyvo.dal.tap.TAPService at 0x1753a708f28>"
      ]
     },
     "execution_count": 9,
     "metadata": {},
     "output_type": "execute_result"
    }
   ],
   "source": [
    "related_service = vo.registry.regtap.ivoid2service(regtap_search_results[0].ivoid, servicetype=\"tap\")\n",
    "related_service"
   ]
  },
  {
   "cell_type": "code",
   "execution_count": 11,
   "metadata": {},
   "outputs": [
    {
     "name": "stdout",
     "output_type": "stream",
     "text": [
      "bolshoi.dens256\n",
      "    Densities for 256^3 grid cells; for some snapnums\n",
      "\n",
      "Columns=['dens', 'ix', 'iy', 'iz', 'phkey', 'snapnum', 'webid']\n",
      "----\n",
      "bolshoi.fof\n",
      "    Friends-of-Friends halo catalogue, level 0 with relative linking\n",
      "    length 0.17\n",
      "\n",
      "Columns=['angmom', 'angmom_x', 'angmom_y', 'angmom_z', 'axis1', 'axis1_x', 'axis1_y', 'axis1_z', 'axis2', 'axis2_x', 'axis2_y', 'axis2_z', 'axis3', 'axis3_x', 'axis3_y', 'axis3_z', 'delta', 'disp', 'disp_v', 'fofid', 'ix', 'iy', 'iz', 'level', 'mass', 'ninfile', 'np', 'phkey', 'size', 'snapnum', 'spin', 'vx', 'vy', 'vz', 'x', 'y', 'z']\n",
      "----\n",
      "bolshoi.redshifts\n",
      "    Redshifts for snapshot numbers\n",
      "\n",
      "Columns=['aexp', 'snapnum', 'zred']\n",
      "----\n",
      "glots.services\n",
      "    A table of TAP services harvested from the registry (and some\n",
      "    spoon-fed).\n",
      "\n",
      "Columns=['accessurl', 'harvestinterval', 'ivoid', 'lastsuccess', 'nextharvest']\n",
      "----\n",
      "glots.tables\n",
      "    A table of tables accesible through the TAP services known to\n",
      "    glots.services.\n",
      "\n",
      "Columns=['ivoid', 'table_desc', 'table_name', 'utype']\n",
      "----\n",
      "glots.columns\n",
      "    A table of columns within the tables listed in glots.tables.\n",
      "\n",
      "Columns=['\"size\"', 'column_name', 'datatype', 'description', 'indexed', 'ivoid', 'principal', 'std', 'table_name', 'ucd', 'unit', 'utype']\n",
      "----\n",
      "mdr1.fof\n",
      "    Friends-of-Friends halo catalogue, level 0 with relative linking\n",
      "    length 0.17\n",
      "\n",
      "Columns=['angmom', 'angmom_x', 'angmom_y', 'angmom_z', 'axis1', 'axis1_x', 'axis1_y', 'axis1_z', 'axis2', 'axis2_x', 'axis2_y', 'axis2_z', 'axis3', 'axis3_x', 'axis3_y', 'axis3_z', 'delta', 'disp', 'disp_v', 'fofid', 'ix', 'iy', 'iz', 'level', 'mass', 'ninfile', 'np', 'phkey', 'size', 'snapnum', 'spin', 'vx', 'vy', 'vz', 'x', 'y', 'z']\n",
      "----\n",
      "mdr1.treesnapnums\n",
      "    Snapshot numbers of merger tree data\n",
      "\n",
      "Columns=['aexp', 'snapnum', 'treesnapnum', 'zred']\n",
      "----\n",
      "mdr1.fofmtree\n",
      "    Merger trees for FOF-objects\n",
      "\n",
      "Columns=['descendantid', 'fofid', 'foftreeid', 'ix', 'iy', 'iz', 'lastprogid', 'mainleafid', 'mass', 'np', 'phkey', 'size', 'spin', 'treerootid', 'treesnapnum', 'vx', 'vy', 'vz', 'x', 'y', 'z']\n",
      "----\n",
      "mdr1.fofparticles\n",
      "    Links between FOF groups at z=0 (snapnum=85) and their particles\n",
      "\n",
      "Columns=['fofid', 'fofparticleid', 'particleid', 'snapnum']\n",
      "----\n",
      "mdr1.particles85\n",
      "    Snapshot of the simulation at redshift z=0, list of simulation\n",
      "    particles\n",
      "\n",
      "Columns=['particleid', 'phkey', 'vx', 'vy', 'vz', 'x', 'y', 'z']\n",
      "----\n",
      "ravedr4.rave_dr4\n",
      "    This is the main DR4 table, containing a summary of most values from\n",
      "    the other tables.\n",
      "\n",
      "Columns=['age', 'al', 'al_n', 'algo_conv_k', 'alpha_sparv', 'av', 'b1mag_usnob1', 'b2mag_usnob1', 'c1', 'c10', 'c11', 'c12', 'c13', 'c14', 'c15', 'c16', 'c17', 'c18', 'c19', 'c2', 'c20', 'c3', 'c4', 'c5', 'c6', 'c7', 'c8', 'c9', 'chisq_c', 'correctionrv', 'correlationcoeff', 'dedeg', 'dist', 'dist_2mass', 'dist_denis', 'dist_ppmxl', 'dist_tycho2', 'dist_ucac2', 'dist_ucac3', 'dist_ucac4', 'dist_usnob1', 'distancemodulus_binney', 'e_age', 'e_av', 'e_dist', 'e_mass', 'e_parallax', 'edistancemodulus_binney', 'ehmag_2mass', 'ehrv', 'eimag_denis', 'ejmag_2mass', 'ejmag_denis', 'ekmag_2mass', 'ekmag_denis', 'elogg_k', 'emet_k', 'epmde_ppmxl', 'epmde_tycho2', 'epmde_ucac2', 'epmde_ucac3', 'epmde_ucac4', 'epmra_ppmxl', 'epmra_tycho2', 'epmra_ucac2', 'epmra_ucac3', 'epmra_ucac4', 'eskyhrv', 'eteff_k', 'fe', 'fe_n', 'fibernumber', 'fieldname', 'glat', 'glon', 'hmag_2mass', 'hrv', 'id_2mass', 'id_denis', 'id_ppmxl', 'id_tycho2', 'id_ucac2', 'id_ucac3', 'id_ucac4', 'id_usnob1', 'imag_denis', 'imag_usnob1', 'jmag_2mass', 'jmag_denis', 'kmag_2mass', 'kmag_denis', 'logg_k', 'logg_sparv', 'mass', 'met_k', 'met_n_k', 'mg', 'mg_n', 'ni', 'ni_n', 'obsdate', 'parallax', 'peakheight', 'peakwidth', 'platenumber', 'pmde_ppmxl', 'pmde_tycho2', 'pmde_ucac2', 'pmde_ucac3', 'pmde_ucac4', 'pmra_ppmxl', 'pmra_tycho2', 'pmra_ucac2', 'pmra_ucac3', 'pmra_ucac4', 'r1mag_usnob1', 'r2mag_usnob1', 'radeg', 'rave_obs_id', 'raveid', 'si', 'si_n', 'skycorrelationcoeff', 'skyhrv', 'snr_k', 'stn_sparv', 'teff_k', 'teff_sparv', 'ti', 'ti_n', 'xidqualityflag_2mass', 'xidqualityflag_denis', 'xidqualityflag_ppmxl', 'xidqualityflag_tycho2', 'xidqualityflag_ucac2', 'xidqualityflag_ucac3', 'xidqualityflag_ucac4', 'xidqualityflag_usnob1', 'zeropointflag']\n",
      "----\n",
      "rr.registries\n",
      "    Administrative table: publishing registries we harvest, together with\n",
      "    the dates of last full and incremental harvests.\n",
      "\n",
      "Columns=['accessurl', 'ivoid', 'last_full_harvest', 'last_inc_harvest', 'title']\n",
      "----\n",
      "rr.authorities\n",
      "    A mapping between the registries and the authorities they claim to\n",
      "    manage.\n",
      "\n",
      "Columns=['ivoid', 'managed_authority']\n",
      "----\n",
      "rr.resource\n",
      "    The resources (like services, data collections, organizations)\n",
      "    present in this registry.\n",
      "\n",
      "Columns=['content_level', 'content_type', 'created', 'creator_seq', 'harvested_from', 'ivoid', 'reference_url', 'region_of_regard', 'res_description', 'res_title', 'res_type', 'res_version', 'rights', 'rights_uri', 'short_name', 'source_format', 'source_value', 'updated', 'waveband']\n",
      "----\n",
      "rr.res_role\n",
      "    Entities (persons or organizations) operating on resources: creators,\n",
      "    contacts, publishers, contributors.\n",
      "\n",
      "Columns=['base_role', 'email', 'ivoid', 'logo', 'role_ivoid', 'role_name', 'street_address', 'telephone']\n",
      "----\n",
      "rr.res_subject\n",
      "    Topics, object types, or other descriptive keywords about the\n",
      "    resource.\n",
      "\n",
      "Columns=['ivoid', 'res_subject']\n",
      "----\n",
      "rr.capability\n",
      "    Pieces of behaviour of a resource.\n",
      "\n",
      "Columns=['cap_description', 'cap_index', 'cap_type', 'ivoid', 'standard_id']\n",
      "----\n",
      "rr.res_schema\n",
      "    Sets of tables related to resources.\n",
      "\n",
      "Columns=['ivoid', 'schema_description', 'schema_index', 'schema_name', 'schema_title', 'schema_utype']\n",
      "----\n",
      "rr.res_table\n",
      "    (Relational) tables that are part of schemata or resources.\n",
      "\n",
      "Columns=['ivoid', 'schema_index', 'table_description', 'table_index', 'table_name', 'table_title', 'table_type', 'table_utype']\n",
      "----\n",
      "rr.table_column\n",
      "    Metadata on columns of a resource's tables.\n",
      "\n",
      "Columns=['arraysize', 'column_description', 'datatype', 'delim', 'extended_schema', 'extended_type', 'flag', 'ivoid', 'name', 'std', 'table_index', 'type_system', 'ucd', 'unit', 'utype']\n",
      "----\n",
      "rr.res_detail\n",
      "    XPath-value pairs for members of resource or capability and their\n",
      "    derivations that are less used and/or from VOResource extensions. The\n",
      "    pairs refer to a resource if cap_index is NULL, to the referenced\n",
      "    capability otherwise.\n",
      "\n",
      "Columns=['cap_index', 'detail_value', 'detail_xpath', 'ivoid']\n",
      "----\n",
      "rr.interface\n",
      "    Information on access modes of a capability.\n",
      "\n",
      "Columns=['access_url', 'authenticated_only', 'cap_index', 'intf_index', 'intf_role', 'intf_type', 'ivoid', 'mirror_url', 'query_type', 'result_type', 'security_method_id', 'std_version', 'url_use', 'wsdl_url']\n",
      "----\n",
      "rr.relationship\n",
      "    Relationships between resources (like mirroring, derivation, serving\n",
      "    a data collection).\n",
      "\n",
      "Columns=['ivoid', 'related_id', 'related_name', 'relationship_type']\n",
      "----\n",
      "rr.intf_param\n",
      "    Input parameters for services.\n",
      "\n",
      "Columns=['arraysize', 'datatype', 'delim', 'extended_schema', 'extended_type', 'intf_index', 'ivoid', 'name', 'param_description', 'param_use', 'std', 'ucd', 'unit', 'utype']\n",
      "----\n",
      "rr.validation\n",
      "    Validation levels for resources and capabilities.\n",
      "\n",
      "Columns=['cap_index', 'ivoid', 'val_level', 'validated_by']\n",
      "----\n",
      "rr.res_date\n",
      "    A date associated with an event in the life cycle of the resource.\n",
      "    This could be creation or update. The role column can be used to\n",
      "    clarify.\n",
      "\n",
      "Columns=['date_value', 'ivoid', 'value_role']\n",
      "----\n",
      "rr.alt_identifier\n",
      "    An alternate identifier associated with this record. This can be a\n",
      "    resiource identifier like a DOI (in URI form, e.g.,\n",
      "    doi:10.1016/j.epsl.2011.11.037), or a person identifier of a creator\n",
      "    (typically an ORCID in URI form, e.g., orcid:000-0000-0000-000X).\n",
      "\n",
      "Columns=['alt_identifier', 'ivoid']\n",
      "----\n",
      "rr.stc_spatial\n",
      "    The spatial coverage of resources. This table associates footprints\n",
      "    (ADQL geometries) with ivoids. The footprints are intended for\n",
      "    resource discovery; a reasonable expectation for the resolution thus\n",
      "    is something like a degree.\n",
      "\n",
      "Columns=['coverage', 'ivoid', 'ref_system_name']\n",
      "----\n",
      "rr.stc_temporal\n",
      "    The temporal coverage of resources, given as one or more intervals;\n",
      "    the total coverage is (a subset of) the union of all intervals given\n",
      "    for a resource. All times are understood as MJD for TDB at the solar\n",
      "    system barycenter.\n",
      "\n",
      "Columns=['ivoid', 'time_end', 'time_start']\n",
      "----\n",
      "rr.stc_spectral\n",
      "    The spectral coverage of resources, given as one or more intervals;\n",
      "    the total coverage is (a subset of) the union of all intervals given\n",
      "    for a resource. All spectral values are understood as given as\n",
      "    wavelength in meters; they are supposed to express wavelength at the\n",
      "    barycenter of the solar system (which means instrument values should\n",
      "    be close enough to work).\n",
      "\n",
      "Columns=['ivoid', 'spectral_end', 'spectral_start']\n",
      "----\n",
      "tap_schema.schemas\n",
      "    Schemas containing tables available for ADQL querying.\n",
      "\n",
      "Columns=['description', 'schema_index', 'schema_name', 'utype']\n",
      "----\n",
      "tap_schema.tables\n",
      "    Tables available for ADQL querying.\n",
      "\n",
      "Columns=['description', 'schema_name', 'sourcerd', 'table_index', 'table_name', 'table_type', 'utype']\n",
      "----\n",
      "tap_schema.columns\n",
      "    Columns in tables available for ADQL querying.\n",
      "\n",
      "Columns=['\"size\"', 'arraysize', 'column_index', 'column_name', 'datatype', 'description', 'indexed', 'principal', 'sourcerd', 'std', 'table_name', 'ucd', 'unit', 'utype', 'xtype']\n",
      "----\n",
      "tap_schema.keys\n",
      "    Foreign key relationships between tables available for ADQL querying.\n",
      "\n",
      "Columns=['description', 'from_table', 'key_id', 'sourcerd', 'target_table', 'utype']\n",
      "----\n",
      "tap_schema.key_columns\n",
      "    Columns participating in foreign key relationships between tables\n",
      "    available for ADQL querying.\n",
      "\n",
      "Columns=['from_column', 'key_id', 'sourcerd', 'target_column']\n",
      "----\n",
      "tap_schema.groups\n",
      "    Columns that are part of groups within tables available for ADQL\n",
      "    querying.\n",
      "\n",
      "Columns=['column_name', 'column_utype', 'group_name', 'group_utype', 'sourcerd', 'table_name']\n",
      "----\n"
     ]
    }
   ],
   "source": [
    "related_tables = related_service.tables\n",
    "for tablename in related_tables.keys():\n",
    "    related_tables[tablename].describe()\n",
    "    print(\"Columns={}\".format(sorted([k.name for k in related_tables[tablename].columns ])))\n",
    "    print(\"----\")"
   ]
  },
  {
   "cell_type": "markdown",
   "metadata": {},
   "source": [
    "But why? If we want to organize our resources to normalize table/catalog metadata out from the same record as a service that serves MANY of them (and keep the service record itself shorter, by way of adding one level of indirection).\n",
    "\n",
    "We know VizieR has resources set up this way.\n",
    "Let's see what ivoid2service does: https://pyvo.readthedocs.io/en/latest/_modules/pyvo/registry/regtap.html#ivoid2service"
   ]
  },
  {
   "cell_type": "code",
   "execution_count": null,
   "metadata": {},
   "outputs": [],
   "source": [
    "#regtap_search_results = vo.registry.regtap.search(keywords=['vizier'], servicetype='tap')\n",
    "regtap_search_results = vo.registry.regtap.search(keywords=['vizier'])\n",
    "for resource in regtap_search_results:\n",
    "    if 'ivo://cds.vizier' in resource.ivoid:\n",
    "        print(resource.ivoid)"
   ]
  },
  {
   "cell_type": "code",
   "execution_count": 51,
   "metadata": {},
   "outputs": [
    {
     "data": {
      "text/plain": [
       "[]"
      ]
     },
     "execution_count": 51,
     "metadata": {},
     "output_type": "execute_result"
    }
   ],
   "source": [
    "related_services = vo.registry.regtap.ivoid2service('ivo://CDS.VizieR/J/A+AS/106/373')\n",
    "related_services"
   ]
  },
  {
   "cell_type": "markdown",
   "metadata": {},
   "source": [
    "But why isn't this showing? \n",
    "http://vao.stsci.edu/directory/getRecord.aspx?id=ivo://CDS.VizieR/J/A+AS/106/373\n",
    "notes that this is a catalog with a TAP \"auxiliary\" capability. ivoid2service isn't finding it?\n",
    "\n",
    "<blockquote>\n",
    "<type>Catalog</type>\n",
    "<contentLevel>Research</contentLevel>\n",
    "<relationship>\n",
    "<relationshipType>IsServedBy</relationshipType>\n",
    "<relatedResource ivo-id=\"ivo://CDS.VizieR/TAP\">TAP VizieR generic service</relatedResource>\n",
    "</relationship>\n",
    "</content>\n",
    "<rights>public</rights>\n",
    "<capability>\n",
    "<validationLevel validatedBy=\"ivo://archive.stsci.edu/nvoregistry\">2</validationLevel>\n",
    "<interface xsi:type=\"vr:WebBrowser\">\n",
    "<accessURL use=\"full\">http://vizier.u-strasbg.fr/cgi-bin/VizieR-2?-source=J/A+AS/106/373</accessURL>\n",
    "</interface>\n",
    "</capability>\n",
    "<capability>\n",
    "<validationLevel validatedBy=\"ivo://archive.stsci.edu/nvoregistry\">2</validationLevel>\n",
    "<interface xsi:type=\"vs:ParamHTTP\">\n",
    "<accessURL use=\"base\">http://vizier.u-strasbg.fr/viz-bin/votable/-dtd/-A?-source=J/A+AS/106/373</accessURL>\n",
    "<queryType>GET</queryType>\n",
    "<resultType>text/xml+votable</resultType>\n",
    "</interface>\n",
    "</capability>\n",
    "<capability standardID=\"ivo://ivoa.net/std/TAP#aux\">\n",
    "<validationLevel validatedBy=\"ivo://archive.stsci.edu/nvoregistry\">2</validationLevel>\n",
    "<interface role=\"std\" xsi:type=\"vs:ParamHTTP\">\n",
    "<accessURL use=\"base\">http://tapvizier.u-strasbg.fr/TAPVizieR/tap</accessURL>\n",
    "</interface>\n",
    "</capability>\n",
    "</blockquote>"
   ]
  },
  {
   "cell_type": "markdown",
   "metadata": {},
   "source": []
  }
 ],
 "metadata": {
  "kernelspec": {
   "display_name": "Python 3",
   "language": "python",
   "name": "python3"
  },
  "language_info": {
   "codemirror_mode": {
    "name": "ipython",
    "version": 3
   },
   "file_extension": ".py",
   "mimetype": "text/x-python",
   "name": "python",
   "nbconvert_exporter": "python",
   "pygments_lexer": "ipython3",
   "version": "3.7.3"
  }
 },
 "nbformat": 4,
 "nbformat_minor": 2
}
